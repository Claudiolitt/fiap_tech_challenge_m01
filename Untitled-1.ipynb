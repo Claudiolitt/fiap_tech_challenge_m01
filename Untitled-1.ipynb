{
 "cells": [
  {
   "cell_type": "code",
   "execution_count": 5,
   "metadata": {},
   "outputs": [
    {
     "name": "stdout",
     "output_type": "stream",
     "text": [
      "74\n",
      "74\n"
     ]
    }
   ],
   "source": [
    "import random\n",
    "\n",
    "# Inicializa o gerador de números aleatórios com o seed 10\n",
    "random.seed(10)\n",
    "\n",
    "# Gera um número aleatório\n",
    "print(random.randint(1, 100))\n",
    "\n",
    "# Re-inicializa o gerador com o mesmo seed\n",
    "random.seed(10)\n",
    "\n",
    "# Gera o mesmo número aleatório novamente\n",
    "print(random.randint(1, 100))"
   ]
  }
 ],
 "metadata": {
  "kernelspec": {
   "display_name": "Python 3",
   "language": "python",
   "name": "python3"
  },
  "language_info": {
   "codemirror_mode": {
    "name": "ipython",
    "version": 3
   },
   "file_extension": ".py",
   "mimetype": "text/x-python",
   "name": "python",
   "nbconvert_exporter": "python",
   "pygments_lexer": "ipython3",
   "version": "3.12.6"
  }
 },
 "nbformat": 4,
 "nbformat_minor": 2
}
